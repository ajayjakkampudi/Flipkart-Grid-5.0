{
  "nbformat": 4,
  "nbformat_minor": 0,
  "metadata": {
    "colab": {
      "provenance": [],
      "include_colab_link": true
    },
    "kernelspec": {
      "name": "python3",
      "display_name": "Python 3"
    },
    "language_info": {
      "name": "python"
    }
  },
  "cells": [
    {
      "cell_type": "markdown",
      "metadata": {
        "id": "view-in-github",
        "colab_type": "text"
      },
      "source": [
        "<a href=\"https://colab.research.google.com/github/harshiitsingh/Flipkart-Grid-5.0/blob/main/Recommendation.ipynb\" target=\"_parent\"><img src=\"https://colab.research.google.com/assets/colab-badge.svg\" alt=\"Open In Colab\"/></a>"
      ]
    },
    {
      "cell_type": "code",
      "execution_count": null,
      "metadata": {
        "id": "8x3KiiMYasl5"
      },
      "outputs": [],
      "source": [
        "import pandas as pd\n",
        "import numpy as np\n",
        "from sklearn.metrics.pairwise import cosine_similarity\n",
        "from sklearn.feature_extraction.text import TfidfVectorizer\n",
        "from scipy import sparse"
      ]
    },
    {
      "cell_type": "code",
      "source": [
        "# Load the purchase history data into a DataFrame\n",
        "data = {'product_description': ['Men Solid Round Neck Pure Cotton Green T-Shirt', 'Men Solid Silk Blend Straight Kurta',\n",
        "                                'Men Striped Round Neck Cotton Blend Maroon, White T-Shi...',\n",
        "                                'Men Suit Textured Suit', 'WROGN Zero Men Printed Crew Neck Cotton Blend Black T-S...',\n",
        "                                'Party Sleeveless Solid Women Black Top']}\n",
        "purchase_history = pd.DataFrame(data)"
      ],
      "metadata": {
        "id": "wFJ-50cLbOq7"
      },
      "execution_count": null,
      "outputs": []
    },
    {
      "cell_type": "code",
      "source": [
        "# Convert text descriptions to TF-IDF vectors\n",
        "vectorizer = TfidfVectorizer()\n",
        "tfidf_matrix = vectorizer.fit_transform(purchase_history['product_description'])"
      ],
      "metadata": {
        "id": "lnOKohjUbRJH"
      },
      "execution_count": null,
      "outputs": []
    },
    {
      "cell_type": "code",
      "source": [
        "# Compute the cosine similarity matrix between the products\n",
        "cosine_similarities = cosine_similarity(tfidf_matrix)"
      ],
      "metadata": {
        "id": "2btiohQkbTMd"
      },
      "execution_count": null,
      "outputs": []
    },
    {
      "cell_type": "code",
      "source": [
        "# Define a function to recommend items based on purchase history\n",
        "def recommend_items(purchase_history_descriptions, n=5):\n",
        "    # Convert purchase history descriptions to a single string and then to a TF-IDF vector\n",
        "    combined_description = ' '.join(purchase_history_descriptions)\n",
        "    purchase_vector = vectorizer.transform([combined_description])\n",
        "\n",
        "    # Compute the similarity between the purchase history and all other descriptions\n",
        "    similarities = cosine_similarities.dot(purchase_vector.T)\n",
        "\n",
        "    # Calculate the mean similarity for each product\n",
        "    avg_similarities = np.mean(similarities, axis=0)\n",
        "\n",
        "    # Sort the items by mean similarity score and return the top n items\n",
        "    recommended_indices = np.argsort(avg_similarities)[::-1][:n]\n",
        "    recommended_descriptions = list(purchase_history['product_description'][recommended_indices])\n",
        "\n",
        "    return recommended_descriptions"
      ],
      "metadata": {
        "id": "ipB22gjHbU8s"
      },
      "execution_count": null,
      "outputs": []
    },
    {
      "cell_type": "code",
      "source": [
        "# Example usage:\n",
        "user_purchase_history = ['Polyester Blend Checkered Coat For Men', 'Printed Lining Men Typography Round Neck Polyester Blac...']  # Replace with the user's purchase history descriptions\n",
        "recommended_descriptions = recommend_items(user_purchase_history)\n",
        "print(recommended_descriptions)"
      ],
      "metadata": {
        "colab": {
          "base_uri": "https://localhost:8080/",
          "height": 390
        },
        "id": "T0R5StBxbWyy",
        "outputId": "9c887a4a-3701-4026-eab7-bd92c84dcc7c"
      },
      "execution_count": null,
      "outputs": [
        {
          "output_type": "error",
          "ename": "ValueError",
          "evalue": "ignored",
          "traceback": [
            "\u001b[0;31m---------------------------------------------------------------------------\u001b[0m",
            "\u001b[0;31mValueError\u001b[0m                                Traceback (most recent call last)",
            "\u001b[0;32m<ipython-input-16-cf76f0caec4e>\u001b[0m in \u001b[0;36m<cell line: 3>\u001b[0;34m()\u001b[0m\n\u001b[1;32m      1\u001b[0m \u001b[0;31m# Example usage:\u001b[0m\u001b[0;34m\u001b[0m\u001b[0;34m\u001b[0m\u001b[0m\n\u001b[1;32m      2\u001b[0m \u001b[0muser_purchase_history\u001b[0m \u001b[0;34m=\u001b[0m \u001b[0;34m[\u001b[0m\u001b[0;34m'Polyester Blend Checkered Coat For Men'\u001b[0m\u001b[0;34m,\u001b[0m \u001b[0;34m'Printed Lining Men Typography Round Neck Polyester Blac...'\u001b[0m\u001b[0;34m]\u001b[0m  \u001b[0;31m# Replace with the user's purchase history descriptions\u001b[0m\u001b[0;34m\u001b[0m\u001b[0;34m\u001b[0m\u001b[0m\n\u001b[0;32m----> 3\u001b[0;31m \u001b[0mrecommended_descriptions\u001b[0m \u001b[0;34m=\u001b[0m \u001b[0mrecommend_items\u001b[0m\u001b[0;34m(\u001b[0m\u001b[0muser_purchase_history\u001b[0m\u001b[0;34m)\u001b[0m\u001b[0;34m\u001b[0m\u001b[0;34m\u001b[0m\u001b[0m\n\u001b[0m\u001b[1;32m      4\u001b[0m \u001b[0mprint\u001b[0m\u001b[0;34m(\u001b[0m\u001b[0mrecommended_descriptions\u001b[0m\u001b[0;34m)\u001b[0m\u001b[0;34m\u001b[0m\u001b[0;34m\u001b[0m\u001b[0m\n",
            "\u001b[0;32m<ipython-input-15-4abdb9560dfe>\u001b[0m in \u001b[0;36mrecommend_items\u001b[0;34m(purchase_history_descriptions, n)\u001b[0m\n\u001b[1;32m     12\u001b[0m \u001b[0;34m\u001b[0m\u001b[0m\n\u001b[1;32m     13\u001b[0m     \u001b[0;31m# Sort the items by mean similarity score and return the top n items\u001b[0m\u001b[0;34m\u001b[0m\u001b[0;34m\u001b[0m\u001b[0m\n\u001b[0;32m---> 14\u001b[0;31m     \u001b[0mrecommended_indices\u001b[0m \u001b[0;34m=\u001b[0m \u001b[0mnp\u001b[0m\u001b[0;34m.\u001b[0m\u001b[0margsort\u001b[0m\u001b[0;34m(\u001b[0m\u001b[0mavg_similarities\u001b[0m\u001b[0;34m)\u001b[0m\u001b[0;34m[\u001b[0m\u001b[0;34m:\u001b[0m\u001b[0;34m:\u001b[0m\u001b[0;34m-\u001b[0m\u001b[0;36m1\u001b[0m\u001b[0;34m]\u001b[0m\u001b[0;34m[\u001b[0m\u001b[0;34m:\u001b[0m\u001b[0mn\u001b[0m\u001b[0;34m]\u001b[0m\u001b[0;34m\u001b[0m\u001b[0;34m\u001b[0m\u001b[0m\n\u001b[0m\u001b[1;32m     15\u001b[0m     \u001b[0mrecommended_descriptions\u001b[0m \u001b[0;34m=\u001b[0m \u001b[0mlist\u001b[0m\u001b[0;34m(\u001b[0m\u001b[0mpurchase_history\u001b[0m\u001b[0;34m[\u001b[0m\u001b[0;34m'product_description'\u001b[0m\u001b[0;34m]\u001b[0m\u001b[0;34m[\u001b[0m\u001b[0mrecommended_indices\u001b[0m\u001b[0;34m]\u001b[0m\u001b[0;34m)\u001b[0m\u001b[0;34m\u001b[0m\u001b[0;34m\u001b[0m\u001b[0m\n\u001b[1;32m     16\u001b[0m \u001b[0;34m\u001b[0m\u001b[0m\n",
            "\u001b[0;32m/usr/local/lib/python3.10/dist-packages/numpy/core/overrides.py\u001b[0m in \u001b[0;36margsort\u001b[0;34m(*args, **kwargs)\u001b[0m\n",
            "\u001b[0;32m/usr/local/lib/python3.10/dist-packages/numpy/core/fromnumeric.py\u001b[0m in \u001b[0;36margsort\u001b[0;34m(a, axis, kind, order)\u001b[0m\n\u001b[1;32m   1118\u001b[0m \u001b[0;34m\u001b[0m\u001b[0m\n\u001b[1;32m   1119\u001b[0m     \"\"\"\n\u001b[0;32m-> 1120\u001b[0;31m     \u001b[0;32mreturn\u001b[0m \u001b[0m_wrapfunc\u001b[0m\u001b[0;34m(\u001b[0m\u001b[0ma\u001b[0m\u001b[0;34m,\u001b[0m \u001b[0;34m'argsort'\u001b[0m\u001b[0;34m,\u001b[0m \u001b[0maxis\u001b[0m\u001b[0;34m=\u001b[0m\u001b[0maxis\u001b[0m\u001b[0;34m,\u001b[0m \u001b[0mkind\u001b[0m\u001b[0;34m=\u001b[0m\u001b[0mkind\u001b[0m\u001b[0;34m,\u001b[0m \u001b[0morder\u001b[0m\u001b[0;34m=\u001b[0m\u001b[0morder\u001b[0m\u001b[0;34m)\u001b[0m\u001b[0;34m\u001b[0m\u001b[0;34m\u001b[0m\u001b[0m\n\u001b[0m\u001b[1;32m   1121\u001b[0m \u001b[0;34m\u001b[0m\u001b[0m\n\u001b[1;32m   1122\u001b[0m \u001b[0;34m\u001b[0m\u001b[0m\n",
            "\u001b[0;32m/usr/local/lib/python3.10/dist-packages/numpy/core/fromnumeric.py\u001b[0m in \u001b[0;36m_wrapfunc\u001b[0;34m(obj, method, *args, **kwds)\u001b[0m\n\u001b[1;32m     55\u001b[0m \u001b[0;34m\u001b[0m\u001b[0m\n\u001b[1;32m     56\u001b[0m     \u001b[0;32mtry\u001b[0m\u001b[0;34m:\u001b[0m\u001b[0;34m\u001b[0m\u001b[0;34m\u001b[0m\u001b[0m\n\u001b[0;32m---> 57\u001b[0;31m         \u001b[0;32mreturn\u001b[0m \u001b[0mbound\u001b[0m\u001b[0;34m(\u001b[0m\u001b[0;34m*\u001b[0m\u001b[0margs\u001b[0m\u001b[0;34m,\u001b[0m \u001b[0;34m**\u001b[0m\u001b[0mkwds\u001b[0m\u001b[0;34m)\u001b[0m\u001b[0;34m\u001b[0m\u001b[0;34m\u001b[0m\u001b[0m\n\u001b[0m\u001b[1;32m     58\u001b[0m     \u001b[0;32mexcept\u001b[0m \u001b[0mTypeError\u001b[0m\u001b[0;34m:\u001b[0m\u001b[0;34m\u001b[0m\u001b[0;34m\u001b[0m\u001b[0m\n\u001b[1;32m     59\u001b[0m         \u001b[0;31m# A TypeError occurs if the object does have such a method in its\u001b[0m\u001b[0;34m\u001b[0m\u001b[0;34m\u001b[0m\u001b[0m\n",
            "\u001b[0;32m/usr/local/lib/python3.10/dist-packages/scipy/sparse/_base.py\u001b[0m in \u001b[0;36m__bool__\u001b[0;34m(self)\u001b[0m\n\u001b[1;32m    335\u001b[0m             \u001b[0;32mreturn\u001b[0m \u001b[0mself\u001b[0m\u001b[0;34m.\u001b[0m\u001b[0mnnz\u001b[0m \u001b[0;34m!=\u001b[0m \u001b[0;36m0\u001b[0m\u001b[0;34m\u001b[0m\u001b[0;34m\u001b[0m\u001b[0m\n\u001b[1;32m    336\u001b[0m         \u001b[0;32melse\u001b[0m\u001b[0;34m:\u001b[0m\u001b[0;34m\u001b[0m\u001b[0;34m\u001b[0m\u001b[0m\n\u001b[0;32m--> 337\u001b[0;31m             raise ValueError(\"The truth value of an array with more than one \"\n\u001b[0m\u001b[1;32m    338\u001b[0m                              \"element is ambiguous. Use a.any() or a.all().\")\n\u001b[1;32m    339\u001b[0m     \u001b[0m__nonzero__\u001b[0m \u001b[0;34m=\u001b[0m \u001b[0m__bool__\u001b[0m\u001b[0;34m\u001b[0m\u001b[0;34m\u001b[0m\u001b[0m\n",
            "\u001b[0;31mValueError\u001b[0m: The truth value of an array with more than one element is ambiguous. Use a.any() or a.all()."
          ]
        }
      ]
    },
    {
      "cell_type": "code",
      "source": [
        "import pandas as pd\n",
        "from sklearn.feature_extraction.text import TfidfVectorizer\n",
        "from sklearn.metrics.pairwise import cosine_similarity\n",
        "\n",
        "# Sample purchase history data\n",
        "data = {'user_id': [1, 1, 2, 2, 2, 3, 3, 3, 3, 4, 4],\n",
        "        'product_description': ['Men Solid Round Neck Pure Cotton Green T-Shirt',\n",
        "                                'Men Solid Silk Blend Straight Kurta',\n",
        "                                'Men Striped Round Neck Cotton Blend Maroon, White T-Shi...',\n",
        "                                'Men Suit Textured Suit',\n",
        "                                'WROGN Zero Men Printed Crew Neck Cotton Blend Black T-S...',\n",
        "                                'Party Sleeveless Solid Women Black Top',\n",
        "                                'Solid Half Sleeve Round Neck T-shirt Men Solid Round Ne...',\n",
        "                                'Solid Men Polo Neck Cotton Blend Light Green T-Shirt',\n",
        "                                'Solid Men Waistcoat',\n",
        "                                'Striped Men Henley Neck Cotton Blend Dark Green T-Shirt',\n",
        "                                'Stylized Graphic Tee Women Printed Crew Neck Cotton Ble...']}\n",
        "purchase_history = pd.DataFrame(data)\n",
        "\n",
        "# Create a TF-IDF vectorizer\n",
        "vectorizer = TfidfVectorizer()\n",
        "tfidf_matrix = vectorizer.fit_transform(purchase_history['product_description'])\n",
        "\n",
        "# Calculate cosine similarity matrix\n",
        "cosine_similarities = cosine_similarity(tfidf_matrix)\n",
        "\n",
        "# Define a function to recommend items based on purchase history\n",
        "def recommend_items(purchase_history_descriptions, n=5):\n",
        "    # Convert user's purchase history descriptions to a single string and then to a TF-IDF vector\n",
        "    combined_description = ' '.join(purchase_history_descriptions)\n",
        "    purchase_vector = vectorizer.transform([combined_description])\n",
        "\n",
        "    # Calculate cosine similarity between the purchase history and all other descriptions\n",
        "    similarities = cosine_similarity(purchase_vector, tfidf_matrix).flatten()\n",
        "\n",
        "    # Sort items by similarity score and return the top n items\n",
        "    recommended_indices = similarities.argsort()[::-1][:n]\n",
        "    recommended_descriptions = list(purchase_history['product_description'][recommended_indices])\n",
        "\n",
        "    return recommended_descriptions\n",
        "\n",
        "# Example usage:\n",
        "user_purchase_history = ['Polyester Blend Checkered Coat For Men', 'Printed Lining Men Typography Round Neck Polyester Blac...']  # Replace with the user's actual purchase history descriptions\n",
        "recommended_descriptions = recommend_items(user_purchase_history)\n",
        "print(recommended_descriptions)\n"
      ],
      "metadata": {
        "colab": {
          "base_uri": "https://localhost:8080/"
        },
        "id": "0coPCJopet5A",
        "outputId": "7f2e1b39-9fed-4318-a902-5de2ad339b9f"
      },
      "execution_count": null,
      "outputs": [
        {
          "output_type": "stream",
          "name": "stdout",
          "text": [
            "['WROGN Zero Men Printed Crew Neck Cotton Blend Black T-S...', 'Men Striped Round Neck Cotton Blend Maroon, White T-Shi...', 'Solid Half Sleeve Round Neck T-shirt Men Solid Round Ne...', 'Men Solid Round Neck Pure Cotton Green T-Shirt', 'Solid Men Polo Neck Cotton Blend Light Green T-Shirt']\n"
          ]
        }
      ]
    },
    {
      "cell_type": "code",
      "source": [],
      "metadata": {
        "id": "I9ZbRkoxiUY2"
      },
      "execution_count": null,
      "outputs": []
    }
  ]
}